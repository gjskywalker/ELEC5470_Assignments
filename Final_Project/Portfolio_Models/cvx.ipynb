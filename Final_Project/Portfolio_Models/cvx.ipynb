{
 "cells": [
  {
   "cell_type": "code",
   "execution_count": 3,
   "metadata": {},
   "outputs": [],
   "source": [
    "# Import packages.\n",
    "import cvxpy as cp\n",
    "import numpy as np\n",
    "import scipy.stats as stats"
   ]
  },
  {
   "cell_type": "code",
   "execution_count": null,
   "metadata": {},
   "outputs": [],
   "source": [
    "'''\n",
    "Experiment 1:\n",
    "beta in range(0, 1, 0.2) -> 0, 0.2, 0.4, 0.6, 0.8, 1; lambda = 0.5; box, elliposoid -> return\n",
    "lambda in range(0, 1, 0.2) -> 0, 0.2, 0.4, 0.6, 0.8, 1; beta = 0.5; box, elliposoid -> return \n",
    "20240102,   1.47,  -0.34,  -1.15,   1.07,   0.40,  -2.21,   1.21,   1.29,  -0.70,   1.49,   0.41,  -0.75\n",
    "\n",
    "Experiment 2:\n",
    "in-sample vs out-of-sample\n",
    "LSMT -> beta vs Transformer -> beta, box, elliposoid -> return\n",
    "'''"
   ]
  },
  {
   "cell_type": "code",
   "execution_count": 34,
   "metadata": {},
   "outputs": [
    {
     "name": "stdout",
     "output_type": "stream",
     "text": [
      "[[-1.03 -0.66 -0.99 ... -0.39 -0.63 -1.03]\n",
      " [-0.11 -0.48  0.33 ...  0.23  0.56  0.1 ]\n",
      " [-0.51  0.02 -0.56 ... -0.39 -0.05 -0.9 ]\n",
      " ...\n",
      " [ 0.32  1.33  0.06 ...  0.67  0.33  0.15]\n",
      " [ 0.22 -2.24 -0.11 ...  0.17  0.33  0.06]\n",
      " [ 0.06 -1.49 -0.38 ... -0.18 -0.39 -0.55]]\n"
     ]
    }
   ],
   "source": [
    "import pickle\n",
    "import os\n",
    "\n",
    "stocks = pickle.load(open(os.path.dirname(os.getcwd())+'/Prepare_Datasets/indicators.pkl', 'rb'))\n",
    "samples = list()\n",
    "for i in stocks:\n",
    "    samples.append(stocks[i])\n",
    "samples = np.asarray(samples, dtype=np.float64)\n",
    "print(samples)"
   ]
  },
  {
   "cell_type": "code",
   "execution_count": 4,
   "metadata": {},
   "outputs": [
    {
     "name": "stdout",
     "output_type": "stream",
     "text": [
      "True\n"
     ]
    }
   ],
   "source": [
    "# N assets\n",
    "N = 10\n",
    "# S sample\n",
    "S = 100\n",
    "# Sigma\n",
    "Sig = np.eye(N)\n",
    "# Sigma^{1/2}\n",
    "Sig2 = np.linalg.cholesky(Sig)\n",
    "print(np.allclose(Sig, Sig2 @ Sig2.T)) \n",
    "# muhat\n",
    "mu = np.zeros((N,1))\n",
    "#confidence level alpha\n",
    "alpha = 0.05\n",
    "# standard norm quantile\n",
    "z_95 = stats.norm.ppf(1-alpha)\n",
    "z_975 = stats.norm.ppf(1-alpha/2)\n",
    "# delta^2 = chi^2 quantile\n",
    "delta2 = stats.chi2.ppf(1-alpha, df=N)\n",
    "# lambda0\n",
    "lambda0 = 0.5\n",
    "# beta\n",
    "beta = 0.5\n"
   ]
  },
  {
   "cell_type": "code",
   "execution_count": 5,
   "metadata": {},
   "outputs": [],
   "source": [
    "# Box uncertainty set\n",
    "A = np.hstack((Sig2, np.zeros((N,1))))\n",
    "c = mu + (1-2*beta)*(z_975/np.sqrt(S))*Sig2@np.ones((N,1))\n",
    "c = np.append(c, 1)\n",
    "c = c/((1-lambda0)*z_95)\n",
    "e = np.ones(N+1)\n",
    "e[-1] = 0"
   ]
  },
  {
   "cell_type": "code",
   "execution_count": 20,
   "metadata": {},
   "outputs": [
    {
     "name": "stdout",
     "output_type": "stream",
     "text": [
      "The optimal value: 0.2600741922463065\n",
      "Optimal solution x: [0.1        0.1        0.1        0.1        0.1        0.1\n",
      " 0.1        0.1        0.1        0.1        0.26007419]\n"
     ]
    }
   ],
   "source": [
    "# set random seed\n",
    "np.random.seed(0)\n",
    "# objective function coeficient\n",
    "f = np.zeros(N + 1)  \n",
    "f[-1] = 1      \n",
    "\n",
    "# define variables x=[w,t]^T\n",
    "x = cp.Variable(N+1)\n",
    "# SOC constraints\n",
    "soc_constraints = [cp.SOC(c.T @ x , A @ x )]\n",
    "# Define and solve the CVXPY problem.\n",
    "prob = cp.Problem(cp.Minimize(f.T@x),\n",
    "                  soc_constraints + [e.T @ x == 1])\n",
    "\n",
    "prob.solve()\n",
    "# Print result.\n",
    "print(\"The optimal value:\", prob.value)\n",
    "print(\"Optimal solution x:\", x.value)"
   ]
  },
  {
   "cell_type": "code",
   "execution_count": 26,
   "metadata": {},
   "outputs": [
    {
     "name": "stdout",
     "output_type": "stream",
     "text": [
      "[1. 1. 1. 1. 1. 1. 1. 1. 1. 1. 0.]\n"
     ]
    }
   ],
   "source": [
    "A1 = np.hstack((Sig2, np.zeros((N,1))))\n",
    "c1 = np.append(mu, 1)\n",
    "a = (1-lambda0)*z_95 + (1-2*beta)*np.sqrt(delta2/S)\n",
    "c1 = c1/a\n",
    "e1 = np.ones(N+1)\n",
    "e1[-1] = 0\n",
    "print(e1)"
   ]
  },
  {
   "cell_type": "code",
   "execution_count": 28,
   "metadata": {},
   "outputs": [
    {
     "name": "stdout",
     "output_type": "stream",
     "text": [
      "(11,)\n",
      "The optimal value: 0.2600741922463065\n",
      "Optimal solution x: [0.1        0.1        0.1        0.1        0.1        0.1\n",
      " 0.1        0.1        0.1        0.1        0.26007419]\n"
     ]
    }
   ],
   "source": [
    "# set random seed\n",
    "np.random.seed(0)\n",
    "# objective function coeficient\n",
    "f1 = np.zeros(N + 1) \n",
    "f1[-1] = 1      \n",
    "print(f1.shape)\n",
    "\n",
    "# define variables x=[w,t]^T\n",
    "x1 = cp.Variable(N+1)\n",
    "# SOC constraints\n",
    "soc_constraints1 = [cp.SOC(c1.T @ x1 , A1 @ x1 )]\n",
    "# Define and solve the CVXPY problem.\n",
    "prob1 = cp.Problem(cp.Minimize(f1.T@x1),\n",
    "                  soc_constraints1 + [e1.T @ x1 == 1])\n",
    "\n",
    "prob1.solve()\n",
    "# Print result.\n",
    "print(\"The optimal value:\", prob1.value)\n",
    "print(\"Optimal solution x:\", x1.value)"
   ]
  }
 ],
 "metadata": {
  "kernelspec": {
   "display_name": "base",
   "language": "python",
   "name": "python3"
  },
  "language_info": {
   "codemirror_mode": {
    "name": "ipython",
    "version": 3
   },
   "file_extension": ".py",
   "mimetype": "text/x-python",
   "name": "python",
   "nbconvert_exporter": "python",
   "pygments_lexer": "ipython3",
   "version": "3.11.5"
  }
 },
 "nbformat": 4,
 "nbformat_minor": 2
}
