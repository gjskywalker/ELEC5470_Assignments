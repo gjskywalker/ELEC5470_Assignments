{
 "cells": [
  {
   "cell_type": "code",
   "execution_count": 3,
   "metadata": {},
   "outputs": [],
   "source": [
    "# Import packages.\n",
    "import cvxpy as cp\n",
    "import numpy as np\n",
    "import scipy.stats as stats"
   ]
  },
  {
   "cell_type": "code",
   "execution_count": null,
   "metadata": {},
   "outputs": [
    {
     "name": "stdout",
     "output_type": "stream",
     "text": [
      "/home/eeuser/Desktop/ELEC5470_Assignments/Final_ProjectPrepare_Datasets/indicators.pkl\n"
     ]
    },
    {
     "ename": "NameError",
     "evalue": "name 'stocks' is not defined",
     "output_type": "error",
     "traceback": [
      "\u001b[0;31m---------------------------------------------------------------------------\u001b[0m",
      "\u001b[0;31mNameError\u001b[0m                                 Traceback (most recent call last)",
      "Cell \u001b[0;32mIn[33], line 8\u001b[0m\n\u001b[1;32m      6\u001b[0m \u001b[38;5;66;03m# stocks = pickle.load(open(, 'rb'))\u001b[39;00m\n\u001b[1;32m      7\u001b[0m samples \u001b[38;5;241m=\u001b[39m \u001b[38;5;28mlist\u001b[39m()\n\u001b[0;32m----> 8\u001b[0m \u001b[38;5;28;01mfor\u001b[39;00m i \u001b[38;5;129;01min\u001b[39;00m stocks:\n\u001b[1;32m      9\u001b[0m     samples\u001b[38;5;241m.\u001b[39mappend(stocks[i])\n\u001b[1;32m     10\u001b[0m samples \u001b[38;5;241m=\u001b[39m np\u001b[38;5;241m.\u001b[39masarray(samples, dtype\u001b[38;5;241m=\u001b[39mnp\u001b[38;5;241m.\u001b[39mfloat64)\n",
      "\u001b[0;31mNameError\u001b[0m: name 'stocks' is not defined"
     ]
    }
   ],
   "source": [
    "import pickle\n",
    "import os\n",
    "\n",
    "\n",
    "print(os.path.dirname(os.getcwd())+'/Prepare_Datasets/indicators.pkl')\n",
    "# stocks = pickle.load(open(, 'rb'))\n",
    "samples = list()\n",
    "for i in stocks:\n",
    "    samples.append(stocks[i])\n",
    "samples = np.asarray(samples, dtype=np.float64)\n",
    "print(samples)"
   ]
  },
  {
   "cell_type": "code",
   "execution_count": 4,
   "metadata": {},
   "outputs": [
    {
     "name": "stdout",
     "output_type": "stream",
     "text": [
      "True\n"
     ]
    }
   ],
   "source": [
    "# N assets\n",
    "N = 10\n",
    "# S sample\n",
    "S = 100\n",
    "# Sigma\n",
    "Sig = np.eye(N)\n",
    "# Sigma^{1/2}\n",
    "Sig2 = np.linalg.cholesky(Sig)\n",
    "print(np.allclose(Sig, Sig2 @ Sig2.T)) \n",
    "# muhat\n",
    "mu = np.zeros((N,1))\n",
    "#confidence level alpha\n",
    "alpha = 0.05\n",
    "# standard norm quantile\n",
    "z_95 = stats.norm.ppf(1-alpha)\n",
    "z_975 = stats.norm.ppf(1-alpha/2)\n",
    "# delta^2 = chi^2 quantile\n",
    "delta2 = stats.chi2.ppf(1-alpha, df=N)\n",
    "# lambda0\n",
    "lambda0 = 0.5\n",
    "# beta\n",
    "beta = 0.5\n"
   ]
  },
  {
   "cell_type": "code",
   "execution_count": 5,
   "metadata": {},
   "outputs": [],
   "source": [
    "# Box uncertainty set\n",
    "A = np.hstack((Sig2, np.zeros((N,1))))\n",
    "c = mu + (1-2*beta)*(z_975/np.sqrt(S))*Sig2@np.ones((N,1))\n",
    "c = np.append(c, 1)\n",
    "c = c/((1-lambda0)*z_95)\n",
    "e = np.ones(N+1)\n",
    "e[-1] = 0"
   ]
  },
  {
   "cell_type": "code",
   "execution_count": 20,
   "metadata": {},
   "outputs": [
    {
     "name": "stdout",
     "output_type": "stream",
     "text": [
      "The optimal value: 0.2600741922463065\n",
      "Optimal solution x: [0.1        0.1        0.1        0.1        0.1        0.1\n",
      " 0.1        0.1        0.1        0.1        0.26007419]\n"
     ]
    }
   ],
   "source": [
    "# set random seed\n",
    "np.random.seed(0)\n",
    "# objective function coeficient\n",
    "f = np.zeros(N + 1)  \n",
    "f[-1] = 1      \n",
    "\n",
    "# define variables x=[w,t]^T\n",
    "x = cp.Variable(N+1)\n",
    "# SOC constraints\n",
    "soc_constraints = [cp.SOC(c.T @ x , A @ x )]\n",
    "# Define and solve the CVXPY problem.\n",
    "prob = cp.Problem(cp.Minimize(f.T@x),\n",
    "                  soc_constraints + [e.T @ x == 1])\n",
    "\n",
    "prob.solve()\n",
    "# Print result.\n",
    "print(\"The optimal value:\", prob.value)\n",
    "print(\"Optimal solution x:\", x.value)"
   ]
  },
  {
   "cell_type": "code",
   "execution_count": 26,
   "metadata": {},
   "outputs": [
    {
     "name": "stdout",
     "output_type": "stream",
     "text": [
      "[1. 1. 1. 1. 1. 1. 1. 1. 1. 1. 0.]\n"
     ]
    }
   ],
   "source": [
    "A1 = np.hstack((Sig2, np.zeros((N,1))))\n",
    "c1 = np.append(mu, 1)\n",
    "a = (1-lambda0)*z_95 + (1-2*beta)*np.sqrt(delta2/S)\n",
    "c1 = c1/a\n",
    "e1 = np.ones(N+1)\n",
    "e1[-1] = 0\n",
    "print(e1)"
   ]
  },
  {
   "cell_type": "code",
   "execution_count": 28,
   "metadata": {},
   "outputs": [
    {
     "name": "stdout",
     "output_type": "stream",
     "text": [
      "(11,)\n",
      "The optimal value: 0.2600741922463065\n",
      "Optimal solution x: [0.1        0.1        0.1        0.1        0.1        0.1\n",
      " 0.1        0.1        0.1        0.1        0.26007419]\n"
     ]
    }
   ],
   "source": [
    "# set random seed\n",
    "np.random.seed(0)\n",
    "# objective function coeficient\n",
    "f1 = np.zeros(N + 1) \n",
    "f1[-1] = 1      \n",
    "print(f1.shape)\n",
    "\n",
    "# define variables x=[w,t]^T\n",
    "x1 = cp.Variable(N+1)\n",
    "# SOC constraints\n",
    "soc_constraints1 = [cp.SOC(c1.T @ x1 , A1 @ x1 )]\n",
    "# Define and solve the CVXPY problem.\n",
    "prob1 = cp.Problem(cp.Minimize(f1.T@x1),\n",
    "                  soc_constraints1 + [e1.T @ x1 == 1])\n",
    "\n",
    "prob1.solve()\n",
    "# Print result.\n",
    "print(\"The optimal value:\", prob1.value)\n",
    "print(\"Optimal solution x:\", x1.value)"
   ]
  }
 ],
 "metadata": {
  "kernelspec": {
   "display_name": "base",
   "language": "python",
   "name": "python3"
  },
  "language_info": {
   "codemirror_mode": {
    "name": "ipython",
    "version": 3
   },
   "file_extension": ".py",
   "mimetype": "text/x-python",
   "name": "python",
   "nbconvert_exporter": "python",
   "pygments_lexer": "ipython3",
   "version": "3.11.5"
  }
 },
 "nbformat": 4,
 "nbformat_minor": 2
}
