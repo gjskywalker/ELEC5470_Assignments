{
 "cells": [
  {
   "cell_type": "code",
   "execution_count": 1,
   "metadata": {},
   "outputs": [],
   "source": [
    "# Import packages.\n",
    "import cvxpy as cp\n",
    "import numpy as np\n",
    "import scipy.stats as stats\n",
    "import matplotlib.pyplot as plt"
   ]
  },
  {
   "cell_type": "code",
   "execution_count": 2,
   "metadata": {},
   "outputs": [
    {
     "data": {
      "text/plain": [
       "'\\nExperiment 0:\\nNormal distribution\\n\\nExperiment 1:\\nbeta in range(0, 1, 0.2) -> 0, 0.2, 0.4, 0.6, 0.8, 1; lambda = 0.5; box, elliposoid -> return\\nlambda in range(0, 1, 0.2) -> 0, 0.2, 0.4, 0.6, 0.8, 1; beta = 0.5; box, elliposoid -> return \\n20240102,   1.47,  -0.34,  -1.15,   1.07,   0.40,  -2.21,   1.21,   1.29,  -0.70,   1.49,   0.41,  -0.75\\n\\nExperiment 2:\\nin-sample vs out-of-sample\\nLSMT -> beta vs Transformer -> beta, box, elliposoid -> return\\n'"
      ]
     },
     "execution_count": 2,
     "metadata": {},
     "output_type": "execute_result"
    }
   ],
   "source": [
    "'''\n",
    "Experiment 0:\n",
    "Normal distribution\n",
    "\n",
    "Experiment 1:\n",
    "beta in range(0, 1, 0.2) -> 0, 0.2, 0.4, 0.6, 0.8, 1; lambda = 0.5; box, elliposoid -> return\n",
    "lambda in range(0, 1, 0.2) -> 0, 0.2, 0.4, 0.6, 0.8, 1; beta = 0.5; box, elliposoid -> return \n",
    "20240102,   1.47,  -0.34,  -1.15,   1.07,   0.40,  -2.21,   1.21,   1.29,  -0.70,   1.49,   0.41,  -0.75\n",
    "\n",
    "Experiment 2:\n",
    "in-sample vs out-of-sample\n",
    "LSMT -> beta vs Transformer -> beta, box, elliposoid -> return\n",
    "'''"
   ]
  },
  {
   "cell_type": "code",
   "execution_count": 3,
   "metadata": {},
   "outputs": [
    {
     "name": "stdout",
     "output_type": "stream",
     "text": [
      "Sample Mean: [-0.10295661 -0.0168736  -0.05841267 -0.09427399  0.14574467]\n",
      "Sample Covariance Matrix:\n",
      " [[ 1.02741042 -0.05090451 -0.10062808  0.06674109 -0.09579289]\n",
      " [-0.05090451  0.92438385 -0.10163889  0.05864348  0.13166902]\n",
      " [-0.10062808 -0.10163889  1.0121648   0.00909454  0.04728167]\n",
      " [ 0.06674109  0.05864348  0.00909454  1.08072143  0.1218436 ]\n",
      " [-0.09579289  0.13166902  0.04728167  0.1218436   0.94559535]]\n"
     ]
    }
   ],
   "source": [
    "# Set a random seed for reproducibility\n",
    "np.random.seed(0)\n",
    "\n",
    "# Define the mean and covariance matrix\n",
    "mean = np.zeros(5)  # 5-dimensional mean vector (zero mean)\n",
    "cov = np.eye(5)     # 5-dimensional identity matrix as covariance (unit variance)\n",
    "\n",
    "# Generate 100 samples from the multivariate normal distribution\n",
    "samples = np.random.multivariate_normal(mean, cov, size=100)\n",
    "\n",
    "# Calculate the sample mean\n",
    "sample_mean = np.mean(samples, axis=0)\n",
    "\n",
    "# Calculate the sample covariance\n",
    "sample_covariance = np.cov(samples, rowvar=False)  # rowvar=False indicates that columns represent variables\n",
    "\n",
    "# Print the results\n",
    "print(\"Sample Mean:\", sample_mean)\n",
    "print(\"Sample Covariance Matrix:\\n\", sample_covariance)"
   ]
  },
  {
   "cell_type": "code",
   "execution_count": 4,
   "metadata": {},
   "outputs": [
    {
     "name": "stdout",
     "output_type": "stream",
     "text": [
      "True\n"
     ]
    }
   ],
   "source": [
    "# N assets\n",
    "N = 5\n",
    "# S sample size\n",
    "S = 100\n",
    "# Sigma\n",
    "Sig = sample_covariance\n",
    "# Sigma^{1/2}\n",
    "Sig2 = np.linalg.cholesky(Sig)\n",
    "print(np.allclose(Sig, Sig2 @ Sig2.T)) \n",
    "# muhat\n",
    "mu = np.zeros((N,1))\n",
    "#confidence level alpha\n",
    "alpha = 0.05\n",
    "# standard norm quantile\n",
    "z_95 = stats.norm.ppf(1-alpha)\n",
    "z_975 = stats.norm.ppf(1-alpha/2)\n",
    "# delta^2 = chi^2 quantile\n",
    "delta2 = stats.chi2.ppf(1-alpha, df=N)\n",
    "# lambda0\n",
    "lambda0 = 0.5\n",
    "# beta\n",
    "beta = 0.5\n"
   ]
  },
  {
   "cell_type": "code",
   "execution_count": 5,
   "metadata": {},
   "outputs": [],
   "source": [
    "# Box uncertainty set\n",
    "A = np.hstack((Sig2, np.zeros((N,1))))\n",
    "c = mu + (1-2*beta)*(z_975/np.sqrt(S))*Sig2@np.ones((N,1))\n",
    "c = np.append(c, 1)\n",
    "c = c/((1-lambda0)*z_95)\n",
    "e = np.ones(N+1)\n",
    "e[-1] = 0"
   ]
  },
  {
   "cell_type": "code",
   "execution_count": 6,
   "metadata": {},
   "outputs": [
    {
     "name": "stdout",
     "output_type": "stream",
     "text": [
      "The optimal value: 0.36953447925190247\n",
      "Optimal solution x: [0.23252906 0.21130546 0.23541038 0.13255868 0.18819642 0.36953448]\n"
     ]
    }
   ],
   "source": [
    "# set random seed\n",
    "np.random.seed(0)\n",
    "# objective function coeficient\n",
    "f = np.zeros(N + 1)  \n",
    "f[-1] = 1      \n",
    "\n",
    "# define variables x=[w,t]^T\n",
    "x = cp.Variable(N+1)\n",
    "# SOC constraints\n",
    "soc_constraints = [cp.SOC(c.T @ x , A @ x )]\n",
    "# Define and solve the CVXPY problem.\n",
    "prob = cp.Problem(cp.Minimize(f.T@x),\n",
    "                  soc_constraints + [e.T @ x == 1])\n",
    "\n",
    "prob.solve()\n",
    "# Print result.\n",
    "print(\"The optimal value:\", prob.value)\n",
    "print(\"Optimal solution x:\", x.value)"
   ]
  },
  {
   "cell_type": "code",
   "execution_count": 7,
   "metadata": {},
   "outputs": [
    {
     "data": {
      "text/plain": [
       "array([0.36953448])"
      ]
     },
     "execution_count": 7,
     "metadata": {},
     "output_type": "execute_result"
    }
   ],
   "source": [
    "w = x.value\n",
    "w = x.value[:-1]\n",
    "-w.T@mu + (1-lambda0)*z_95*np.linalg.norm(Sig2@w)"
   ]
  },
  {
   "cell_type": "code",
   "execution_count": 9,
   "metadata": {},
   "outputs": [
    {
     "name": "stdout",
     "output_type": "stream",
     "text": [
      "[0.23252906 0.21130546 0.23541038 0.13255868 0.18819642 0.73906896]\n",
      "[0.23252906 0.21130546 0.23541038 0.13255868 0.18819642 0.59125517]\n",
      "[0.23252906 0.21130546 0.23541038 0.13255868 0.18819642 0.44344137]\n",
      "[0.23252906 0.21130546 0.23541038 0.13255868 0.18819642 0.29562758]\n",
      "[0.23252906 0.21130546 0.23541038 0.13255868 0.18819642 0.14781379]\n"
     ]
    },
    {
     "data": {
      "image/png": "[encoded data removed]",
      "text/plain": [
       "<Figure size 640x480 with 1 Axes>"
      ]
     },
     "metadata": {},
     "output_type": "display_data"
    }
   ],
   "source": [
    "# Initialize results storage\n",
    "lambda_values = np.arange(0, 1, 0.2)  # lambda0 from 0 to 1 with step 0.2\n",
    "results = []\n",
    "resultsw = np.zeros((len(lambda_values), N + 1))\n",
    "for i, lambda0 in enumerate(lambda_values):\n",
    "    # Box uncertainty set\n",
    "    c = mu + (1 - 2 * beta) * (z_975 / np.sqrt(S)) * Sig2 @ np.ones((N, 1))\n",
    "    c = np.append(c, 1)\n",
    "    c = c / ((1 - lambda0) * z_95)\n",
    "    e = np.ones(N + 1)\n",
    "    e[-1] = 0\n",
    "\n",
    "    # Set random seed\n",
    "    np.random.seed(0)\n",
    "\n",
    "    # Objective function coefficient\n",
    "    f = np.zeros(N + 1)\n",
    "    f[-1] = 1\n",
    "\n",
    "    # Define variables x = [w, t]^T\n",
    "    x = cp.Variable(N + 1)\n",
    "\n",
    "    # SOC constraints\n",
    "    soc_constraints = [cp.SOC(c.T @ x, A @ x)]\n",
    "\n",
    "    # Define and solve the CVXPY problem\n",
    "    prob = cp.Problem(cp.Minimize(f.T @ x), soc_constraints + [e.T @ x == 1])\n",
    "    prob.solve()\n",
    "\n",
    "    # Store the results\n",
    "    results.append(prob.value)\n",
    "    resultsw[i] = x.value\n",
    "    print(resultsw[i])\n",
    "# Convert results to a NumPy array for easier plotting\n",
    "results = np.array(results)\n",
    "\n",
    "# Plotting the results\n",
    "plt.scatter(lambda_values, results, marker='o')\n",
    "plt.title('Optimal Values vs. Lambda0')\n",
    "plt.xlabel('Lambda0')\n",
    "plt.ylabel('Optimal Value')\n",
    "plt.xticks(lambda_values)\n",
    "plt.grid()\n",
    "plt.savefig('box_lambda.pdf', dpi=800)\n",
    "plt.show()"
   ]
  },
  {
   "cell_type": "code",
   "execution_count": 28,
   "metadata": {},
   "outputs": [
    {
     "data": {
      "image/png": "[encoded data removed]",
      "text/plain": [
       "<Figure size 1000x600 with 1 Axes>"
      ]
     },
     "metadata": {},
     "output_type": "display_data"
    }
   ],
   "source": [
    "plt.figure(figsize=(10, 6))\n",
    "for i in range(len(lambda_values)):\n",
    "    plt.scatter([1,2,3,4,5],resultsw[i][:-1], label=f'λ = {lambda_values[i]:.2f}')\n",
    "#[1, 2, 3] [1, 2, 3]\n",
    "plt.title('Optimal Solutions for Different λ Values')\n",
    "plt.ylabel('Optimal Solutions Values')\n",
    "plt.xlabel('Experiments Group')\n",
    "plt.xticks([1, 2, 3, 4, 5])\n",
    "plt.legend()\n",
    "plt.grid()\n",
    "plt.savefig('box_lambda_w.pdf', dpi=800)\n",
    "plt.show()"
   ]
  },
  {
   "cell_type": "code",
   "execution_count": 15,
   "metadata": {},
   "outputs": [
    {
     "name": "stdout",
     "output_type": "stream",
     "text": [
      "[1. 1. 1. 1. 1. 0.]\n"
     ]
    }
   ],
   "source": [
    "A1 = np.hstack((Sig2, np.zeros((N,1))))\n",
    "c1 = np.append(mu, 1)\n",
    "a = (1-lambda0)*z_95 + (1-2*beta)*np.sqrt(delta2/S)\n",
    "c1 = c1/a\n",
    "e1 = np.ones(N+1)\n",
    "e1[-1] = 0\n",
    "print(e1)"
   ]
  },
  {
   "cell_type": "code",
   "execution_count": 16,
   "metadata": {},
   "outputs": [
    {
     "name": "stdout",
     "output_type": "stream",
     "text": [
      "(6,)\n",
      "The optimal value: 0.14781379331993474\n",
      "Optimal solution x: [0.23252906 0.21130546 0.23541038 0.13255868 0.18819642 0.14781379]\n"
     ]
    }
   ],
   "source": [
    "# set random seed\n",
    "np.random.seed(0)\n",
    "# objective function coeficient\n",
    "f1 = np.zeros(N + 1) \n",
    "f1[-1] = 1      \n",
    "print(f1.shape)\n",
    "\n",
    "# define variables x=[w,t]^T\n",
    "x1 = cp.Variable(N+1)\n",
    "# SOC constraints\n",
    "soc_constraints1 = [cp.SOC(c1.T @ x1 , A1 @ x1 )]\n",
    "# Define and solve the CVXPY problem.\n",
    "prob1 = cp.Problem(cp.Minimize(f1.T@x1),\n",
    "                  soc_constraints1 + [e1.T @ x1 == 1])\n",
    "\n",
    "prob1.solve()\n",
    "# Print result.\n",
    "print(\"The optimal value:\", prob1.value)\n",
    "print(\"Optimal solution x:\", x1.value)"
   ]
  }
 ],
 "metadata": {
  "kernelspec": {
   "display_name": "base",
   "language": "python",
   "name": "python3"
  },
  "language_info": {
   "codemirror_mode": {
    "name": "ipython",
    "version": 3
   },
   "file_extension": ".py",
   "mimetype": "text/x-python",
   "name": "python",
   "nbconvert_exporter": "python",
   "pygments_lexer": "ipython3",
   "version": "3.11.5"
  }
 },
 "nbformat": 4,
 "nbformat_minor": 2
}
